{
 "cells": [
  {
   "cell_type": "markdown",
   "metadata": {},
   "source": [
    "# Aprendizaje Supervisado: Laboratorio 1"
   ]
  },
  {
   "cell_type": "markdown",
   "metadata": {},
   "source": [
    "## Ejercicio 1: SVM con Kernel y Regularización\n",
    "\n",
    "En este ejercicio se trabajará con datos que esconden un patrón. Los datos mezclan columnas con valores enteros, flotantes y booleanos.\n",
    "\n",
    "Debe analizar los datos de entrenamiento para encontrar el patrón, y luego entrenar una SVM que explique a la perfección esos datos (accuracy 1.0 en train). Por último, deberá evaluar la SVM en los datos de test, y modificar los parámetros de regularización hasta encontrar una configuración que dé una accuracy mayor a 0.9."
   ]
  },
  {
   "cell_type": "code",
   "execution_count": 11,
   "metadata": {},
   "outputs": [],
   "source": [
    "# cargar datos de entrenamiento y evaluación\n",
    "import pandas as pd\n",
    "\n",
    "import matplotlib.pyplot as plt\n",
    "import matplotlib.mlab as mlab\n",
    "\n",
    "import seaborn\n",
    "\n",
    "%matplotlib inline\n",
    "\n",
    "train = pd.read_csv('datasets/lab1/ej1_train.csv')\n",
    "X_train = train.iloc[:, :-1]\n",
    "Y_train = train['TARGET']\n",
    "test = pd.read_csv('datasets/lab1/ej1_test.csv')\n",
    "X_test = test.iloc[:, :-1]\n",
    "Y_test = test['TARGET']"
   ]
  },
  {
   "cell_type": "markdown",
   "metadata": {},
   "source": [
    "### Ejercicio 1a:\n",
    "\n",
    "Primero imprima una descripción básica de los datos.\n",
    "\n",
    "Luego, calcule y grafique un mapa de calor con la correlación entre los distintos features.\n",
    "\n",
    "**Preguntas:**\n",
    "- ¿Qué observa?\n",
    "- ¿Qué conclusiones puede extraer?\n",
    "\n",
    "Por último, reduzca la dimensionalidad de los datos a dos dimensiones y grafique los puntos.\n",
    "\n",
    "**Preguntas:**\n",
    "- ¿Qué observa?\n",
    "- ¿Qué conclusiones puede extraer?\n"
   ]
  },
  {
   "cell_type": "code",
   "execution_count": 9,
   "metadata": {},
   "outputs": [
    {
     "data": {
      "text/html": [
       "<div>\n",
       "<style scoped>\n",
       "    .dataframe tbody tr th:only-of-type {\n",
       "        vertical-align: middle;\n",
       "    }\n",
       "\n",
       "    .dataframe tbody tr th {\n",
       "        vertical-align: top;\n",
       "    }\n",
       "\n",
       "    .dataframe thead th {\n",
       "        text-align: right;\n",
       "    }\n",
       "</style>\n",
       "<table border=\"1\" class=\"dataframe\">\n",
       "  <thead>\n",
       "    <tr style=\"text-align: right;\">\n",
       "      <th></th>\n",
       "      <th>0</th>\n",
       "      <th>1</th>\n",
       "      <th>2</th>\n",
       "      <th>3</th>\n",
       "      <th>4</th>\n",
       "      <th>5</th>\n",
       "      <th>6</th>\n",
       "      <th>7</th>\n",
       "      <th>8</th>\n",
       "      <th>9</th>\n",
       "      <th>10</th>\n",
       "      <th>11</th>\n",
       "      <th>12</th>\n",
       "      <th>13</th>\n",
       "      <th>14</th>\n",
       "      <th>15</th>\n",
       "      <th>16</th>\n",
       "      <th>TARGET</th>\n",
       "    </tr>\n",
       "  </thead>\n",
       "  <tbody>\n",
       "    <tr>\n",
       "      <th>count</th>\n",
       "      <td>400.000000</td>\n",
       "      <td>400.000000</td>\n",
       "      <td>400.000000</td>\n",
       "      <td>400.000000</td>\n",
       "      <td>400.000000</td>\n",
       "      <td>400.000000</td>\n",
       "      <td>400.000000</td>\n",
       "      <td>400.000000</td>\n",
       "      <td>400.000000</td>\n",
       "      <td>400.00000</td>\n",
       "      <td>400.00000</td>\n",
       "      <td>400.000000</td>\n",
       "      <td>400.000000</td>\n",
       "      <td>400.000000</td>\n",
       "      <td>400.000000</td>\n",
       "      <td>400.000000</td>\n",
       "      <td>400.000000</td>\n",
       "      <td>400.00000</td>\n",
       "    </tr>\n",
       "    <tr>\n",
       "      <th>mean</th>\n",
       "      <td>100.567500</td>\n",
       "      <td>101.035000</td>\n",
       "      <td>98.930000</td>\n",
       "      <td>100.445000</td>\n",
       "      <td>98.487500</td>\n",
       "      <td>0.007970</td>\n",
       "      <td>-0.009065</td>\n",
       "      <td>-0.019228</td>\n",
       "      <td>-0.009865</td>\n",
       "      <td>0.03500</td>\n",
       "      <td>0.08750</td>\n",
       "      <td>0.172500</td>\n",
       "      <td>0.237500</td>\n",
       "      <td>0.220000</td>\n",
       "      <td>0.132500</td>\n",
       "      <td>0.075000</td>\n",
       "      <td>0.040000</td>\n",
       "      <td>-0.00500</td>\n",
       "    </tr>\n",
       "    <tr>\n",
       "      <th>std</th>\n",
       "      <td>86.549654</td>\n",
       "      <td>49.517155</td>\n",
       "      <td>91.403921</td>\n",
       "      <td>62.199267</td>\n",
       "      <td>36.299366</td>\n",
       "      <td>0.782708</td>\n",
       "      <td>0.560037</td>\n",
       "      <td>0.514925</td>\n",
       "      <td>0.924287</td>\n",
       "      <td>0.18401</td>\n",
       "      <td>0.28292</td>\n",
       "      <td>0.378288</td>\n",
       "      <td>0.426084</td>\n",
       "      <td>0.414765</td>\n",
       "      <td>0.339458</td>\n",
       "      <td>0.263721</td>\n",
       "      <td>0.196205</td>\n",
       "      <td>1.00124</td>\n",
       "    </tr>\n",
       "    <tr>\n",
       "      <th>min</th>\n",
       "      <td>-93.000000</td>\n",
       "      <td>-10.000000</td>\n",
       "      <td>-115.000000</td>\n",
       "      <td>-39.000000</td>\n",
       "      <td>11.000000</td>\n",
       "      <td>-1.725988</td>\n",
       "      <td>-1.300851</td>\n",
       "      <td>-1.244842</td>\n",
       "      <td>-2.168412</td>\n",
       "      <td>0.00000</td>\n",
       "      <td>0.00000</td>\n",
       "      <td>0.000000</td>\n",
       "      <td>0.000000</td>\n",
       "      <td>0.000000</td>\n",
       "      <td>0.000000</td>\n",
       "      <td>0.000000</td>\n",
       "      <td>0.000000</td>\n",
       "      <td>-1.00000</td>\n",
       "    </tr>\n",
       "    <tr>\n",
       "      <th>25%</th>\n",
       "      <td>46.000000</td>\n",
       "      <td>73.000000</td>\n",
       "      <td>37.500000</td>\n",
       "      <td>61.750000</td>\n",
       "      <td>73.000000</td>\n",
       "      <td>-0.488926</td>\n",
       "      <td>-0.366255</td>\n",
       "      <td>-0.382066</td>\n",
       "      <td>-0.646990</td>\n",
       "      <td>0.00000</td>\n",
       "      <td>0.00000</td>\n",
       "      <td>0.000000</td>\n",
       "      <td>0.000000</td>\n",
       "      <td>0.000000</td>\n",
       "      <td>0.000000</td>\n",
       "      <td>0.000000</td>\n",
       "      <td>0.000000</td>\n",
       "      <td>-1.00000</td>\n",
       "    </tr>\n",
       "    <tr>\n",
       "      <th>50%</th>\n",
       "      <td>100.500000</td>\n",
       "      <td>100.000000</td>\n",
       "      <td>100.000000</td>\n",
       "      <td>100.000000</td>\n",
       "      <td>99.500000</td>\n",
       "      <td>0.005970</td>\n",
       "      <td>-0.010120</td>\n",
       "      <td>-0.013890</td>\n",
       "      <td>0.000883</td>\n",
       "      <td>0.00000</td>\n",
       "      <td>0.00000</td>\n",
       "      <td>0.000000</td>\n",
       "      <td>0.000000</td>\n",
       "      <td>0.000000</td>\n",
       "      <td>0.000000</td>\n",
       "      <td>0.000000</td>\n",
       "      <td>0.000000</td>\n",
       "      <td>-1.00000</td>\n",
       "    </tr>\n",
       "    <tr>\n",
       "      <th>75%</th>\n",
       "      <td>155.250000</td>\n",
       "      <td>133.250000</td>\n",
       "      <td>153.250000</td>\n",
       "      <td>140.000000</td>\n",
       "      <td>122.000000</td>\n",
       "      <td>0.510675</td>\n",
       "      <td>0.314739</td>\n",
       "      <td>0.300218</td>\n",
       "      <td>0.544438</td>\n",
       "      <td>0.00000</td>\n",
       "      <td>0.00000</td>\n",
       "      <td>0.000000</td>\n",
       "      <td>0.000000</td>\n",
       "      <td>0.000000</td>\n",
       "      <td>0.000000</td>\n",
       "      <td>0.000000</td>\n",
       "      <td>0.000000</td>\n",
       "      <td>1.00000</td>\n",
       "    </tr>\n",
       "    <tr>\n",
       "      <th>max</th>\n",
       "      <td>299.000000</td>\n",
       "      <td>217.000000</td>\n",
       "      <td>323.000000</td>\n",
       "      <td>243.000000</td>\n",
       "      <td>185.000000</td>\n",
       "      <td>1.785821</td>\n",
       "      <td>1.369928</td>\n",
       "      <td>1.217912</td>\n",
       "      <td>2.240643</td>\n",
       "      <td>1.00000</td>\n",
       "      <td>1.00000</td>\n",
       "      <td>1.000000</td>\n",
       "      <td>1.000000</td>\n",
       "      <td>1.000000</td>\n",
       "      <td>1.000000</td>\n",
       "      <td>1.000000</td>\n",
       "      <td>1.000000</td>\n",
       "      <td>1.00000</td>\n",
       "    </tr>\n",
       "  </tbody>\n",
       "</table>\n",
       "</div>"
      ],
      "text/plain": [
       "                0           1           2           3           4           5  \\\n",
       "count  400.000000  400.000000  400.000000  400.000000  400.000000  400.000000   \n",
       "mean   100.567500  101.035000   98.930000  100.445000   98.487500    0.007970   \n",
       "std     86.549654   49.517155   91.403921   62.199267   36.299366    0.782708   \n",
       "min    -93.000000  -10.000000 -115.000000  -39.000000   11.000000   -1.725988   \n",
       "25%     46.000000   73.000000   37.500000   61.750000   73.000000   -0.488926   \n",
       "50%    100.500000  100.000000  100.000000  100.000000   99.500000    0.005970   \n",
       "75%    155.250000  133.250000  153.250000  140.000000  122.000000    0.510675   \n",
       "max    299.000000  217.000000  323.000000  243.000000  185.000000    1.785821   \n",
       "\n",
       "                6           7           8          9         10          11  \\\n",
       "count  400.000000  400.000000  400.000000  400.00000  400.00000  400.000000   \n",
       "mean    -0.009065   -0.019228   -0.009865    0.03500    0.08750    0.172500   \n",
       "std      0.560037    0.514925    0.924287    0.18401    0.28292    0.378288   \n",
       "min     -1.300851   -1.244842   -2.168412    0.00000    0.00000    0.000000   \n",
       "25%     -0.366255   -0.382066   -0.646990    0.00000    0.00000    0.000000   \n",
       "50%     -0.010120   -0.013890    0.000883    0.00000    0.00000    0.000000   \n",
       "75%      0.314739    0.300218    0.544438    0.00000    0.00000    0.000000   \n",
       "max      1.369928    1.217912    2.240643    1.00000    1.00000    1.000000   \n",
       "\n",
       "               12          13          14          15          16     TARGET  \n",
       "count  400.000000  400.000000  400.000000  400.000000  400.000000  400.00000  \n",
       "mean     0.237500    0.220000    0.132500    0.075000    0.040000   -0.00500  \n",
       "std      0.426084    0.414765    0.339458    0.263721    0.196205    1.00124  \n",
       "min      0.000000    0.000000    0.000000    0.000000    0.000000   -1.00000  \n",
       "25%      0.000000    0.000000    0.000000    0.000000    0.000000   -1.00000  \n",
       "50%      0.000000    0.000000    0.000000    0.000000    0.000000   -1.00000  \n",
       "75%      0.000000    0.000000    0.000000    0.000000    0.000000    1.00000  \n",
       "max      1.000000    1.000000    1.000000    1.000000    1.000000    1.00000  "
      ]
     },
     "execution_count": 9,
     "metadata": {},
     "output_type": "execute_result"
    }
   ],
   "source": [
    "train.describe()"
   ]
  },
  {
   "cell_type": "code",
   "execution_count": 27,
   "metadata": {},
   "outputs": [
    {
     "data": {
      "image/png": "[encoded data removed]",
      "text/plain": [
       "<Figure size 720x504 with 2 Axes>"
      ]
     },
     "metadata": {},
     "output_type": "display_data"
    }
   ],
   "source": [
    "# AYUDA: https://www.kaggle.com/pierra/credit-card-dataset-svm-classification\n",
    "t_corr = train.corr()\n",
    "\n",
    "plt.figure(figsize=(10,7))\n",
    "\n",
    "seaborn.heatmap(t_corr, cmap=\"YlGnBu\")\n",
    "seaborn.set(font_scale=1.5,style='white')\n",
    "\n",
    "plt.title('Correlación de Pearson')\n",
    "plt.show()"
   ]
  },
  {
   "cell_type": "code",
   "execution_count": null,
   "metadata": {},
   "outputs": [],
   "source": [
    "#En el cuadrante número dos, se puede ver como las features se encuentran fuertemente correlacionadas\n",
    "#(los coeficientes de Pearson se presentan entre 0.5 y 1). \n",
    "#Mientras que para el cuadrante cuatro, podría decirse que casi no existe correlación."
   ]
  },
  {
   "cell_type": "code",
   "execution_count": 20,
   "metadata": {},
   "outputs": [],
   "source": [
    "# COMPLETAR: reducir dimensionalidad y graficar"
   ]
  },
  {
   "cell_type": "markdown",
   "metadata": {},
   "source": [
    "### Ejercico 1b:\n",
    "\n",
    "Primero calcule la accuracy sobre train para una SVM con kernel lineal.\n",
    "\n",
    "**Preguntas:**\n",
    "- ¿Cuál es la accuracy?\n",
    "- ¿Qué problema tiene el modelo? ¿De sesgo (bias) o de varianza?\n",
    "\n",
    "Modifique la SVM para lograr una accuracy en train de 1.0."
   ]
  },
  {
   "cell_type": "code",
   "execution_count": null,
   "metadata": {},
   "outputs": [],
   "source": [
    "from sklearn.svm import LinearSVC\n",
    "from sklearn.metrics import accuracy_score\n",
    "clf = LinearSVC(random_state=0)  # CAMBIAR!\n",
    "clf.fit(X_train, Y_train)\n",
    "Y_pred = clf.predict(X_train)\n",
    "print('Accuracy en train:\\t', accuracy_score(Y_train, Y_pred))"
   ]
  },
  {
   "cell_type": "markdown",
   "metadata": {},
   "source": [
    "### Ejercicio 1c:\n",
    "\n",
    "Evalúe la SVM del ítem anterior sobre los datos de test.\n",
    "\n",
    "**Preguntas:**\n",
    "- ¿Cuál es la accuracy en test?\n",
    "- ¿Qué problema tiene el modelo? ¿De sesgo (bias) o de varianza?\n",
    "\n",
    "Modifique parámetros de la SVM para lograr una accuracy en test mayor a 0.9.\n",
    "La accuracy en train puede ser menos de 1.0.\n",
    "\n",
    "Puede buscar los valores apropiados a mano o usar grid search."
   ]
  },
  {
   "cell_type": "code",
   "execution_count": null,
   "metadata": {},
   "outputs": [],
   "source": [
    "from sklearn.svm import LinearSVC\n",
    "from sklearn.metrics import accuracy_score\n",
    "clf = LinearSVC(random_state=0)  # CAMBIAR!\n",
    "clf.fit(X_train, Y_train)\n",
    "Y_pred = clf.predict(X_train)\n",
    "print('Accuracy en train:\\t', accuracy_score(Y_train, Y_pred))\n",
    "Y_pred = clf.predict(X_test)\n",
    "print('Accuracy en test:\\t', accuracy_score(Y_test, Y_pred))"
   ]
  },
  {
   "cell_type": "markdown",
   "metadata": {},
   "source": [
    "## Ejercicio 2: Revisitando el Titanic\n",
    "\n",
    "Este ejercicio se basa en el siguiente análisis de datos visto en clase:\n",
    "\n",
    "- https://www.kaggle.com/zlatankr/titanic-random-forest-82-78/notebook\n",
    "\n",
    "Aquí, se logra entrenar una Random Forest con un out-of-bag score de 0.8294.\n"
   ]
  },
  {
   "cell_type": "markdown",
   "metadata": {},
   "source": [
    "### Ejercicio 2a:\n",
    "\n",
    "El objetivo de este ejercicio es ver cuánto da el score si no se quiere hacer ninguna preparación de los datos.\n",
    "\n",
    "Para esto, deben eliminarse las columnas que no tienen datos numéricos y las que tienen datos incompletos, ya que los algoritmos de aprendizaje automático no saben lidiar con ellos."
   ]
  },
  {
   "cell_type": "code",
   "execution_count": null,
   "metadata": {},
   "outputs": [],
   "source": [
    "# cargar los datos\n",
    "import pandas as pd\n",
    "train = pd.read_csv('datasets/titanic/train.csv')\n",
    "train.info()"
   ]
  },
  {
   "cell_type": "code",
   "execution_count": null,
   "metadata": {},
   "outputs": [],
   "source": [
    "del train['PassengerId']  # eliminar ids\n",
    "\n",
    "# COMPLETAR: eliminar las columnas que no tienen números, y las que tienen datos incompletos."
   ]
  },
  {
   "cell_type": "code",
   "execution_count": null,
   "metadata": {},
   "outputs": [],
   "source": [
    "# entrenar la misma Random Forest, e imprimir el out-of-bag score\n",
    "from sklearn.ensemble import RandomForestClassifier\n",
    "\n",
    "rf = RandomForestClassifier(criterion='gini', \n",
    "                             n_estimators=700,\n",
    "                             min_samples_split=10,\n",
    "                             min_samples_leaf=1,\n",
    "                             max_features='auto',\n",
    "                             oob_score=True,\n",
    "                             random_state=1,\n",
    "                             n_jobs=-1)\n",
    "rf.fit(train.iloc[:, 1:], train.iloc[:, 0])\n",
    "print(\"%.4f\" % rf.oob_score_)"
   ]
  },
  {
   "cell_type": "markdown",
   "metadata": {},
   "source": [
    "### Ejercicio 2b:\n",
    "\n",
    "En este ejercicio deberá hacer tres mejoras en la preparación de los datos:\n",
    "\n",
    "- Completar la columna \"Age\" y usarla.\n",
    "- Agregar una nueva columna con el largo del nombre.\n",
    "- Convertir la columna \"Sex\" a valores numéricos y usarla.\n",
    "\n",
    "Calcular el OOB score de cada una de las mejoras por separado.\n",
    "\n",
    "**Responda**: ¿Cuál de las tres mejoras aporta más?"
   ]
  },
  {
   "cell_type": "code",
   "execution_count": null,
   "metadata": {},
   "outputs": [],
   "source": [
    "# cargar nuevamente los datos\n",
    "import pandas as pd\n",
    "train = pd.read_csv('datasets/titanic/train.csv')\n",
    "train.info()"
   ]
  },
  {
   "cell_type": "code",
   "execution_count": null,
   "metadata": {},
   "outputs": [],
   "source": [
    "# COMPLETAR: completar con el valor medio los datos faltantes en el campo Age"
   ]
  },
  {
   "cell_type": "code",
   "execution_count": null,
   "metadata": {},
   "outputs": [],
   "source": [
    "# COMPLETAR: agregar columna con el largo del nombre"
   ]
  },
  {
   "cell_type": "code",
   "execution_count": null,
   "metadata": {},
   "outputs": [],
   "source": [
    "# COMPLETAR: poner 1 en lugar de 'female' y 0 en lugar de 'male'\n",
    "# AYUDA: DEFINIR LA FUNCIÓN f Y HACER:\n",
    "# train['Sex'] = train['Sex'].apply(f)"
   ]
  },
  {
   "cell_type": "code",
   "execution_count": null,
   "metadata": {},
   "outputs": [],
   "source": [
    "# COMPLETAR: eliminar las columnas que deban ser eliminadas"
   ]
  },
  {
   "cell_type": "code",
   "execution_count": null,
   "metadata": {},
   "outputs": [],
   "source": [
    "# EJECUTAR ESTO TRES VECES, UNA VEZ PARA CADA MEJORA.\n",
    "# entrenar el Random Forest, e imprimir out-of-bag score\n",
    "from sklearn.ensemble import RandomForestClassifier\n",
    "\n",
    "rf = RandomForestClassifier(criterion='gini', \n",
    "                             n_estimators=700,\n",
    "                             min_samples_split=10,\n",
    "                             min_samples_leaf=1,\n",
    "                             max_features='auto',\n",
    "                             oob_score=True,\n",
    "                             random_state=1,\n",
    "                             n_jobs=-1)\n",
    "rf.fit(train.iloc[:, 1:], train.iloc[:, 0])\n",
    "print(\"%.4f\" % rf.oob_score_)"
   ]
  }
 ],
 "metadata": {
  "kernelspec": {
   "display_name": "Python 3",
   "language": "python",
   "name": "python3"
  },
  "language_info": {
   "codemirror_mode": {
    "name": "ipython",
    "version": 3
   },
   "file_extension": ".py",
   "mimetype": "text/x-python",
   "name": "python",
   "nbconvert_exporter": "python",
   "pygments_lexer": "ipython3",
   "version": "3.6.5"
  }
 },
 "nbformat": 4,
 "nbformat_minor": 2
}
