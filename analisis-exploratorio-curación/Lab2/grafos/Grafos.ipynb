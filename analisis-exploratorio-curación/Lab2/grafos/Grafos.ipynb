{
 "cells": [
  {
   "cell_type": "markdown",
   "metadata": {},
   "source": [
    "# Ejercicio con grafos"
   ]
  },
  {
   "cell_type": "code",
   "execution_count": 34,
   "metadata": {},
   "outputs": [
    {
     "data": {
      "text/plain": [
       "[(0, 2), (1, 3), (2, 3), (2, 4), (3, 5), (4, 5)]"
      ]
     },
     "execution_count": 34,
     "metadata": {},
     "output_type": "execute_result"
    }
   ],
   "source": [
    "import numpy\n",
    "edgeList = [(0, 2), (1, 3), (2, 3), (2, 4), (3, 5), (4, 5)]\n",
    "edgeList"
   ]
  },
  {
   "cell_type": "markdown",
   "metadata": {},
   "source": [
    "## Convertir a matriz de adyacencia"
   ]
  },
  {
   "cell_type": "code",
   "execution_count": 35,
   "metadata": {},
   "outputs": [
    {
     "data": {
      "text/plain": [
       "matrix([[0, 0, 1, 0, 0, 0],\n",
       "        [0, 0, 0, 1, 0, 0],\n",
       "        [0, 0, 0, 1, 1, 0],\n",
       "        [0, 0, 0, 0, 0, 1],\n",
       "        [0, 0, 0, 0, 0, 1]])"
      ]
     },
     "execution_count": 35,
     "metadata": {},
     "output_type": "execute_result"
    }
   ],
   "source": [
    "rows = max([x for (x,y) in edgeList]) + 1\n",
    "cols = max([y for (x,y) in edgeList]) + 1\n",
    "\n",
    "adjMatrix = numpy.matrix([0] * rows * cols)\n",
    "adjMatrix.shape = (rows, cols)\n",
    "\n",
    "for edge in edgeList:\n",
    "    adjMatrix.itemset((edge[0], edge[1]), 1)\n",
    "\n",
    "adjMatrix"
   ]
  },
  {
   "cell_type": "markdown",
   "metadata": {},
   "source": [
    "## Convertir a lista de adyacencias"
   ]
  },
  {
   "cell_type": "code",
   "execution_count": 36,
   "metadata": {},
   "outputs": [
    {
     "name": "stdout",
     "output_type": "stream",
     "text": [
      "0:[2]\n",
      "1:[3]\n",
      "2:[3, 4]\n",
      "3:[5]\n",
      "4:[5]\n"
     ]
    }
   ],
   "source": [
    "adjList = [[] for i in range(rows)]\n",
    "\n",
    "for edge in edgeList:\n",
    "    row = edge[0]\n",
    "    col = edge[1]\n",
    "\n",
    "    adjList[row].append(col)\n",
    "\n",
    "for i in range(len(adjList)):\n",
    "    print(str(i) + ':' + str(adjList[i]))"
   ]
  }
 ],
 "metadata": {
  "kernelspec": {
   "display_name": "Python 3",
   "language": "python",
   "name": "python3"
  },
  "language_info": {
   "codemirror_mode": {
    "name": "ipython",
    "version": 3
   },
   "file_extension": ".py",
   "mimetype": "text/x-python",
   "name": "python",
   "nbconvert_exporter": "python",
   "pygments_lexer": "ipython3",
   "version": "3.5.5"
  }
 },
 "nbformat": 4,
 "nbformat_minor": 2
}
