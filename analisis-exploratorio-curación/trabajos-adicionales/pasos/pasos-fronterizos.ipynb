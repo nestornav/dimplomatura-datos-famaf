{
 "cells": [
  {
   "cell_type": "code",
   "execution_count": 2,
   "metadata": {},
   "outputs": [],
   "source": [
    "import pandas as pd\n",
    "from pandas.io.json import json_normalize\n",
    "import matplotlib.pyplot as plt\n",
    "from gmplot import gmplot\n",
    "\n",
    "borders = pd.read_json('./pasos.json')\n",
    "\n",
    "# Se obtienen los vectores latitud y longitud.\n",
    "lat, long = zip(*borders['location'].values)"
   ]
  },
  {
   "cell_type": "code",
   "execution_count": 72,
   "metadata": {},
   "outputs": [],
   "source": [
    "gmap = gmplot.GoogleMapPlotter.from_geocode(\"Tierra del Fuego, Argentina\")\n",
    "\n",
    "# Con esta forma generamos circunferencias de color amarillo correspondiente a cada punto.\n",
    "#gmap.scatter(lat, long, '#ff671f', size=80, marker=False)\n",
    "\n",
    "# Mediante esta línea dibujamos markers de color rojo para cada latitud y longitud dado.\n",
    "gmap.scatter(lat, long, 'r', marker=True)"
   ]
  },
  {
   "cell_type": "code",
   "execution_count": 73,
   "metadata": {},
   "outputs": [],
   "source": [
    "# Creamos un archivo HTML con los pasos fronterizos pintados en el mapa\n",
    "gmap.draw(\"argtina-borders.html\")"
   ]
  }
 ],
 "metadata": {
  "kernelspec": {
   "display_name": "Python 3",
   "language": "python",
   "name": "python3"
  },
  "language_info": {
   "codemirror_mode": {
    "name": "ipython",
    "version": 3
   },
   "file_extension": ".py",
   "mimetype": "text/x-python",
   "name": "python",
   "nbconvert_exporter": "python",
   "pygments_lexer": "ipython3",
   "version": "3.6.5"
  }
 },
 "nbformat": 4,
 "nbformat_minor": 2
}
