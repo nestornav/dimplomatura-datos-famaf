{
 "cells": [
  {
   "cell_type": "markdown",
   "metadata": {},
   "source": [
    "# Ciencia de datos en finanzas cuantitativas\n",
    "### Examen clase 1 y 2:"
   ]
  },
  {
   "cell_type": "markdown",
   "metadata": {},
   "source": [
    "El objetivo es llenar con código todas las celdas comentadas en este Notebook. \n",
    "\n",
    "Clase 1:\n",
    "Se pretende el entendimiento del cómputo de tasa de retorno a la madurez y la tasa implícita de futuros."
   ]
  },
  {
   "cell_type": "markdown",
   "metadata": {},
   "source": [
    "## Examen clase 1:"
   ]
  },
  {
   "cell_type": "markdown",
   "metadata": {},
   "source": [
    "#### Tasa de retorno a la madurez:"
   ]
  },
  {
   "cell_type": "code",
   "execution_count": 11,
   "metadata": {},
   "outputs": [],
   "source": [
    "# CELDA 1:\n",
    "# Objetivo de esta celda: Crear una función que, dado una tasa anualizada porcentual y una fecha, compute \n",
    "# el precio del bono AY24 para esa fecha.\n",
    "\n",
    "\n",
    "## Para ello hay que entender la sección de Bonos (Activos Financieros) de la clase 1.\n",
    "## Será necesario utilizar los flujos de fondos del bono. Lo pueden encontrar en la Hoja1 del excel ay24.xlsx .\n",
    "\n",
    "import datetime\n",
    "from dateutil.parser import parse\n",
    "import math\n",
    "\n",
    "desc = [\n",
    "    {'date': datetime.date(2018,11,7), 'prop': 0.46, 'cfi': 4.38},\n",
    "    {'date': datetime.date(2019,5,7), 'prop': 0.96, 'cfi': 21.04},\n",
    "    {'date': datetime.date(2019,11,7), 'prop': 1.46, 'cfi': 3.65},\n",
    "    {'date': datetime.date(2020,5,7), 'prop': 1.96, 'cfi': 20.31},\n",
    "    {'date': datetime.date(2020,11,7), 'prop': 2.46, 'cfi': 2.92},\n",
    "    {'date': datetime.date(2021,5,7), 'prop': 2.96, 'cfi': 19.58},\n",
    "    {'date': datetime.date(2021,11,7), 'prop': 3.46, 'cfi': 2.19},\n",
    "    {'date': datetime.date(2022,5,7), 'prop': 3.96, 'cfi': 18.85},\n",
    "    {'date': datetime.date(2022,11,7), 'prop': 4.46, 'cfi': 1.46},    \n",
    "    {'date': datetime.date(2023,5,7), 'prop': 4.96, 'cfi': 18.12},\n",
    "    {'date': datetime.date(2023,11,7), 'prop': 5.46, 'cfi': 0.73},\n",
    "    {'date': datetime.date(2024,5,7), 'prop': 5.96, 'cfi': 17.43},\n",
    "]\n",
    "\n",
    "def return_rate_ay24(rate, date):\n",
    "        p = 0\n",
    "        dt = parse(date)\n",
    "        y = rate\n",
    "\n",
    "        for item in desc:\n",
    "            if item.get('date') >= dt.date():\n",
    "                p = item.get('cfi') / math.pow((1 + y),item.get('prop'))\n",
    "        return p"
   ]
  },
  {
   "cell_type": "code",
   "execution_count": null,
   "metadata": {
    "collapsed": true
   },
   "outputs": [],
   "source": [
    "import scipy.optimize as optimize\n",
    "\n",
    "# CELDA 2:\n",
    "# Objetivo de esta celda: Crear una función que, dado un precio y una fecha, compute una tasa anualizada porcentual\n",
    "# del bono AY24 para esa fecha.\n",
    "\n",
    "\n",
    "\n",
    "# Para ello hay que usar la función de la CELDA 1 y el optimizador optimize.newton(...) de scipy con el\n",
    "# fin de encontrar la tasa anualizada tal que al evaluar la función de la CELDA 1 de el precio de input."
   ]
  },
  {
   "cell_type": "code",
   "execution_count": null,
   "metadata": {
    "collapsed": true
   },
   "outputs": [],
   "source": [
    "# CELDA 3:\n",
    "# Objetivo de esta celda: Computar el precio del AY24 del día 14/8/2018 con tasa de retorno a la madurez anualizada de 11,93%."
   ]
  },
  {
   "cell_type": "code",
   "execution_count": null,
   "metadata": {
    "collapsed": true
   },
   "outputs": [],
   "source": [
    "# CELDA 4:\n",
    "# Objetivo de esta celda: Computar la tasa de retorno a la madurez del AY24 del día 31/8/2018 con precio 95,85 (U$S)."
   ]
  },
  {
   "cell_type": "markdown",
   "metadata": {},
   "source": [
    "#### Tasa implícita anualizada de futuros:"
   ]
  },
  {
   "cell_type": "code",
   "execution_count": null,
   "metadata": {
    "collapsed": true
   },
   "outputs": [],
   "source": [
    "# CELDA 5:\n",
    "# Objetivo de esta celda: De http://www.rofex.com.ar/cem/FyO.aspx extraer manualmente los datos necesarios para crear\n",
    "# un array con los precios de los dólares futuros de los días 31/08/2018 y 3/8/2018. Nos interesa los productos: \n",
    "# [DLR082018,DLR092018,DLR102018,DLR112018,DLR122018,DLR012019,DLR022019]"
   ]
  },
  {
   "cell_type": "code",
   "execution_count": null,
   "metadata": {
    "collapsed": true
   },
   "outputs": [],
   "source": [
    "# CELDA 6:\n",
    "# Objetivo de esta celda: Computar la tasa implícita anualizada de los dólares futuros del día 31/08/2018. Graficar.\n",
    "\n",
    "# Tener en cuenta que los vencimientos de los futuros son el último día del mes. EJ DLR012019 vence el 31/1/2019."
   ]
  },
  {
   "cell_type": "code",
   "execution_count": null,
   "metadata": {
    "collapsed": true
   },
   "outputs": [],
   "source": [
    "# CELDA 7:\n",
    "# Objetivo de esta celda: Computar la tasa implícita anualizada de los dólares futuros del día 3/8/2018. Graficar."
   ]
  },
  {
   "cell_type": "markdown",
   "metadata": {},
   "source": [
    "## Examen clase 2:"
   ]
  },
  {
   "cell_type": "code",
   "execution_count": null,
   "metadata": {
    "collapsed": true
   },
   "outputs": [],
   "source": [
    "# CELDA 8:\n",
    "# Objetivo de esta celda: Cargar el pickle '\\DiploDatos\\Clase 2\\Database\\Nasdaq_sotck.pk'\n",
    "\n",
    "# https://docs.python.org/3/library/pickle.html\n",
    "# Esta base de datos son precios ajustados de Nasdaq 100. Son ajustados porque omiten dividendos, para\n",
    "# no tener salto en precios imposibles de entender por un autoencoder.\n",
    "# Tener en cuenta que SIEMPRE hay que usar precios ajustados por dividendos al hacer cualquier autoencoder o regresor\n",
    "# sobre acciones."
   ]
  },
  {
   "cell_type": "code",
   "execution_count": null,
   "metadata": {
    "collapsed": true
   },
   "outputs": [],
   "source": [
    "# CELDA 9:\n",
    "# Objetivo de esta celda: Imprimir las columnas de la base de datos."
   ]
  },
  {
   "cell_type": "code",
   "execution_count": null,
   "metadata": {
    "collapsed": true
   },
   "outputs": [],
   "source": [
    "# CELDA 10:\n",
    "# Objetivo de esta celda: Graficar la serie histórica de precio ajustado de Apple ('AAPL')."
   ]
  },
  {
   "cell_type": "code",
   "execution_count": null,
   "metadata": {
    "collapsed": true
   },
   "outputs": [],
   "source": [
    "# CELDA 11:\n",
    "# Objetivo de esta celda: Estandarizar todas las series históricas ajustadas de precios de todas las acciones de Nasdaq 100.\n",
    "# Puede ser manualmente o utilizar StandardScaler de sk-learn."
   ]
  },
  {
   "cell_type": "code",
   "execution_count": null,
   "metadata": {
    "collapsed": true
   },
   "outputs": [],
   "source": [
    "# CELDA 12:\n",
    "# Objetivo de esta celda: Crear una función cuyo input es un entero 'dim_neuron' y el output es un modelo autoencoder.\n",
    "# Modelo autoencoder output:\n",
    "# (encoder)\n",
    "# Input@ 95\n",
    "# Dense@ dim_neuron+relu\n",
    "# Dense@ 10+linear\n",
    "# (decoder)\n",
    "# Dense@ dim_neuron+relu\n",
    "# Dense@ 95+linear\n",
    "# loss: mse"
   ]
  },
  {
   "cell_type": "code",
   "execution_count": null,
   "metadata": {
    "collapsed": true
   },
   "outputs": [],
   "source": [
    "# CELDA 13:\n",
    "# Objetivo de esta celda: Hacer validación cruzada para determinar los epochs y dim_neuron.\n",
    "# Hay que usar TimeSeriesSplit(100) pero hacer validación cruzada sólo sobre los últimos 10 segmentos.\n",
    "\n",
    "# Puede utilizar tanto KerasRegressor+GridSearchCV como loops anidados.\n",
    "# HINT 1: Si se usa loops anidados hay que reinicializar cada modelo antes de hacer .fit .\n",
    "# HINT 2: Hay codigo suficiente en las filminas de la clase como para poder realizar este paso."
   ]
  },
  {
   "cell_type": "code",
   "execution_count": null,
   "metadata": {
    "collapsed": true
   },
   "outputs": [],
   "source": [
    "# CELDA 14:\n",
    "# Objetivo de esta celda: Entrenar un autoencoder con la mejor hiperparametrización obtenida en la celda 13 y\n",
    "# con datos de validación.\n",
    "# Dejar fuera del entrenamiento los últimos 66 días de datos, los cuales utilizaremos como conjunto de validación."
   ]
  },
  {
   "cell_type": "code",
   "execution_count": null,
   "metadata": {
    "collapsed": true
   },
   "outputs": [],
   "source": [
    "# CELDA 15:\n",
    "# Objetivo de esta celda: Usando el modelo de la CELDA 14, graficar el espacio latente sobre la totalidad de los datos."
   ]
  },
  {
   "cell_type": "code",
   "execution_count": null,
   "metadata": {
    "collapsed": true
   },
   "outputs": [],
   "source": [
    "# CELDA 16:\n",
    "# Objetivo de esta celda: VALIDACIÓN CRUZADA DE UN DENOISING AUTOENCODER.\n",
    "# Hacer validación cruzada para determinar los epochs y dim_neuron de un DENOISING AUTOENCODER.\n",
    "# El modelo es el definido en 12.\n",
    "# Hay que usar TimeSeriesSplit(100) pero hacer validación cruzada sobre los ultimos 10 segmentos.\n",
    "# Por cada dato a partir del dato 91 introducir 30 veces ruido a la muestra de input de entrenamiento. Para cada acción el ruido\n",
    "# es sumar un número aleatorio de una normal con desviación estándar igual a los 90 días anteriores de dicha acción.\n",
    "# Es decir que cada dato a partir del dato 91 será utilizado 30 veces para entrenar (agregando ruido).\n",
    "# Los datos en el conjunto de validación NO deben tener ruido."
   ]
  },
  {
   "cell_type": "code",
   "execution_count": null,
   "metadata": {
    "collapsed": true
   },
   "outputs": [],
   "source": [
    "# CELDA 17:\n",
    "# Objetivo de esta celda: Entrenar un DENOISING AUTOENCODER con la mejor hiperparametrización obtenida en la celda 16 y\n",
    "# con datos de validación.\n",
    "# Dejar fuera del entrenamiento los últimos 66 días de datos, los cuales utilizaremos como conjunto de validación.\n",
    "# Recordamos que para ser un DENOISING AUTOENCODER hay que introducir ruido a cada elemento de entrenamiento,\n",
    "# similar a la CELDA 16.\n",
    "# Los datos en el conjunto de validación NO deben tener ruido."
   ]
  },
  {
   "cell_type": "code",
   "execution_count": null,
   "metadata": {
    "collapsed": true
   },
   "outputs": [],
   "source": [
    "# CELDA 18:\n",
    "# Objetivo de esta celda: Usando el modelo de la CELDA 17, graficar el espacio latente sobre\n",
    "# la totalidad de los datos (sin ruido)."
   ]
  },
  {
   "cell_type": "code",
   "execution_count": null,
   "metadata": {
    "collapsed": true
   },
   "outputs": [],
   "source": [
    "# CELDA 19:\n",
    "# Objetivo de esta celda: Repetir la función de CELDA 12 pero agregando DROPOUT:\n",
    "# Modelo autoencoder output:\n",
    "# (encoder)\n",
    "# Input@ 95\n",
    "# Dense@ dim_neuron+relu\n",
    "# Dropout(0.2)\n",
    "# Dense@ 10+linear\n",
    "# (decoder)\n",
    "# Dense@ dim_neuron+relu\n",
    "# Dropout(0.2)\n",
    "# Dense@ 95+linear\n",
    "# loss: mse"
   ]
  },
  {
   "cell_type": "code",
   "execution_count": null,
   "metadata": {
    "collapsed": true
   },
   "outputs": [],
   "source": [
    "# CELDA 20:\n",
    "# Objetivo de esta celda: Hacer validación cruzada como en CELDA 16 pero del modelo de CELDA 19.\n",
    "# Es decir validación cruzada de un DENOISING AUTOENCODER con Dropout."
   ]
  },
  {
   "cell_type": "code",
   "execution_count": null,
   "metadata": {
    "collapsed": true
   },
   "outputs": [],
   "source": [
    "# CELDA 21:\n",
    "# Objetivo de esta celda: Entrenar un DENOISING AUTOENCODER con Dropout, usando la mejor hiperparametrización obtenida\n",
    "# en la celda 20 y con datos de validación.\n",
    "# Dejar fuera del entrenamiento los últimos 66 días de datos, los cuales utilizaremos como conjunto de validación.\n",
    "# Recordamos que para ser un DENOISING AUTOENCODER hay que introducir ruido a cada elemento de entrenamiento,\n",
    "# similar a la CELDA 16.\n",
    "# Los datos en el conjunto de validación NO deben tener ruido."
   ]
  },
  {
   "cell_type": "code",
   "execution_count": null,
   "metadata": {
    "collapsed": true
   },
   "outputs": [],
   "source": [
    "# CELDA 22:\n",
    "# Objetivo de esta celda: Graficar el espacio latente sobre la totalidad de los datos (sin ruido)."
   ]
  }
 ],
 "metadata": {
  "kernelspec": {
   "display_name": "Python 3",
   "language": "python",
   "name": "python3"
  },
  "language_info": {
   "codemirror_mode": {
    "name": "ipython",
    "version": 3
   },
   "file_extension": ".py",
   "mimetype": "text/x-python",
   "name": "python",
   "nbconvert_exporter": "python",
   "pygments_lexer": "ipython3",
   "version": "3.6.5"
  }
 },
 "nbformat": 4,
 "nbformat_minor": 2
}
