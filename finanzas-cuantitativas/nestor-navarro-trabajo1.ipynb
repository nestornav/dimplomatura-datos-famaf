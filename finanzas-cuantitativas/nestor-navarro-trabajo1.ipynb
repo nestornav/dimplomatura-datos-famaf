{
 "cells": [
  {
   "cell_type": "markdown",
   "metadata": {},
   "source": [
    "# Ciencia de datos en finanzas cuantitativas\n",
    "### Examen clase 1 y 2:"
   ]
  },
  {
   "cell_type": "markdown",
   "metadata": {},
   "source": [
    "El objetivo es llenar con código todas las celdas comentadas en este Notebook. \n",
    "\n",
    "Clase 1:\n",
    "Se pretende el entendimiento del cómputo de tasa de retorno a la madurez y la tasa implícita de futuros."
   ]
  },
  {
   "cell_type": "markdown",
   "metadata": {},
   "source": [
    "## Examen clase 1:"
   ]
  },
  {
   "cell_type": "markdown",
   "metadata": {},
   "source": [
    "#### Tasa de retorno a la madurez:"
   ]
  },
  {
   "cell_type": "code",
   "execution_count": 3,
   "metadata": {},
   "outputs": [],
   "source": [
    "# CELDA 1:\n",
    "# Objetivo de esta celda: Crear una función que, dado una tasa anualizada porcentual y una fecha, compute \n",
    "# el precio del bono AY24 para esa fecha.\n",
    "\n",
    "\n",
    "## Para ello hay que entender la sección de Bonos (Activos Financieros) de la clase 1.\n",
    "## Será necesario utilizar los flujos de fondos del bono. Lo pueden encontrar en la Hoja1 del excel ay24.xlsx .\n",
    "\n",
    "import datetime\n",
    "from dateutil.parser import parse\n",
    "import math\n",
    "\n",
    "desc = [\n",
    "    {'date': datetime.date(2018,11,7), 'prop': 0.46, 'cfi': 4.38},\n",
    "    {'date': datetime.date(2019,5,7), 'prop': 0.96, 'cfi': 21.04},\n",
    "    {'date': datetime.date(2019,11,7), 'prop': 1.46, 'cfi': 3.65},\n",
    "    {'date': datetime.date(2020,5,7), 'prop': 1.96, 'cfi': 20.31},\n",
    "    {'date': datetime.date(2020,11,7), 'prop': 2.46, 'cfi': 2.92},\n",
    "    {'date': datetime.date(2021,5,7), 'prop': 2.96, 'cfi': 19.58},\n",
    "    {'date': datetime.date(2021,11,7), 'prop': 3.46, 'cfi': 2.19},\n",
    "    {'date': datetime.date(2022,5,7), 'prop': 3.96, 'cfi': 18.85},\n",
    "    {'date': datetime.date(2022,11,7), 'prop': 4.46, 'cfi': 1.46},    \n",
    "    {'date': datetime.date(2023,5,7), 'prop': 4.96, 'cfi': 18.12},\n",
    "    {'date': datetime.date(2023,11,7), 'prop': 5.46, 'cfi': 0.73},\n",
    "    {'date': datetime.date(2024,5,7), 'prop': 5.96, 'cfi': 17.43},\n",
    "]\n",
    "\n",
    "def get_price_ay24(rate, date):\n",
    "        p = 0\n",
    "        dt = parse(date)\n",
    "        y = rate/100\n",
    "\n",
    "        for item in desc:\n",
    "            if item.get('date') >= dt.date():\n",
    "                p += item.get('cfi') / math.pow((1 + y),item.get('prop'))\n",
    "        return p"
   ]
  },
  {
   "cell_type": "code",
   "execution_count": 29,
   "metadata": {},
   "outputs": [
    {
     "ename": "TypeError",
     "evalue": "return_price_ay24() takes 2 positional arguments but 10 were given",
     "output_type": "error",
     "traceback": [
      "\u001b[0;31m---------------------------------------------------------------------------\u001b[0m",
      "\u001b[0;31mTypeError\u001b[0m                                 Traceback (most recent call last)",
      "\u001b[0;32m<ipython-input-29-d2d0841ed0b9>\u001b[0m in \u001b[0;36m<module>\u001b[0;34m()\u001b[0m\n\u001b[1;32m     14\u001b[0m     \u001b[0mprint\u001b[0m\u001b[0;34m(\u001b[0m\u001b[0ma\u001b[0m\u001b[0;34m)\u001b[0m\u001b[0;34m\u001b[0m\u001b[0m\n\u001b[1;32m     15\u001b[0m \u001b[0;34m\u001b[0m\u001b[0m\n\u001b[0;32m---> 16\u001b[0;31m \u001b[0mcompute_rate\u001b[0m\u001b[0;34m(\u001b[0m\u001b[0;36m3.45\u001b[0m\u001b[0;34m,\u001b[0m\u001b[0;34m'14/8/2018'\u001b[0m\u001b[0;34m)\u001b[0m\u001b[0;34m\u001b[0m\u001b[0m\n\u001b[0m",
      "\u001b[0;32m<ipython-input-29-d2d0841ed0b9>\u001b[0m in \u001b[0;36mcompute_rate\u001b[0;34m(price, date)\u001b[0m\n\u001b[1;32m     11\u001b[0m \u001b[0;34m\u001b[0m\u001b[0m\n\u001b[1;32m     12\u001b[0m \u001b[0;32mdef\u001b[0m \u001b[0mcompute_rate\u001b[0m\u001b[0;34m(\u001b[0m\u001b[0mprice\u001b[0m\u001b[0;34m,\u001b[0m \u001b[0mdate\u001b[0m\u001b[0;34m)\u001b[0m\u001b[0;34m:\u001b[0m\u001b[0;34m\u001b[0m\u001b[0m\n\u001b[0;32m---> 13\u001b[0;31m     \u001b[0ma\u001b[0m \u001b[0;34m=\u001b[0m \u001b[0moptimize\u001b[0m\u001b[0;34m.\u001b[0m\u001b[0mnewton\u001b[0m\u001b[0;34m(\u001b[0m\u001b[0mreturn_price_ay24\u001b[0m\u001b[0;34m,\u001b[0m \u001b[0mprice\u001b[0m\u001b[0;34m,\u001b[0m\u001b[0margs\u001b[0m\u001b[0;34m=\u001b[0m\u001b[0;34m(\u001b[0m\u001b[0mdate\u001b[0m\u001b[0;34m)\u001b[0m\u001b[0;34m)\u001b[0m\u001b[0;34m\u001b[0m\u001b[0m\n\u001b[0m\u001b[1;32m     14\u001b[0m     \u001b[0mprint\u001b[0m\u001b[0;34m(\u001b[0m\u001b[0ma\u001b[0m\u001b[0;34m)\u001b[0m\u001b[0;34m\u001b[0m\u001b[0m\n\u001b[1;32m     15\u001b[0m \u001b[0;34m\u001b[0m\u001b[0m\n",
      "\u001b[0;32m/Library/Frameworks/Python.framework/Versions/3.6/lib/python3.6/site-packages/scipy/optimize/zeros.py\u001b[0m in \u001b[0;36mnewton\u001b[0;34m(func, x0, fprime, args, tol, maxiter, fprime2)\u001b[0m\n\u001b[1;32m    187\u001b[0m         \u001b[0;32melse\u001b[0m\u001b[0;34m:\u001b[0m\u001b[0;34m\u001b[0m\u001b[0m\n\u001b[1;32m    188\u001b[0m             \u001b[0mp1\u001b[0m \u001b[0;34m=\u001b[0m \u001b[0mx0\u001b[0m\u001b[0;34m*\u001b[0m\u001b[0;34m(\u001b[0m\u001b[0;36m1\u001b[0m \u001b[0;34m+\u001b[0m \u001b[0;36m1e-4\u001b[0m\u001b[0;34m)\u001b[0m \u001b[0;34m-\u001b[0m \u001b[0;36m1e-4\u001b[0m\u001b[0;34m\u001b[0m\u001b[0m\n\u001b[0;32m--> 189\u001b[0;31m         \u001b[0mq0\u001b[0m \u001b[0;34m=\u001b[0m \u001b[0mfunc\u001b[0m\u001b[0;34m(\u001b[0m\u001b[0mp0\u001b[0m\u001b[0;34m,\u001b[0m \u001b[0;34m*\u001b[0m\u001b[0margs\u001b[0m\u001b[0;34m)\u001b[0m\u001b[0;34m\u001b[0m\u001b[0m\n\u001b[0m\u001b[1;32m    190\u001b[0m         \u001b[0mq1\u001b[0m \u001b[0;34m=\u001b[0m \u001b[0mfunc\u001b[0m\u001b[0;34m(\u001b[0m\u001b[0mp1\u001b[0m\u001b[0;34m,\u001b[0m \u001b[0;34m*\u001b[0m\u001b[0margs\u001b[0m\u001b[0;34m)\u001b[0m\u001b[0;34m\u001b[0m\u001b[0m\n\u001b[1;32m    191\u001b[0m         \u001b[0;32mfor\u001b[0m \u001b[0miter\u001b[0m \u001b[0;32min\u001b[0m \u001b[0mrange\u001b[0m\u001b[0;34m(\u001b[0m\u001b[0mmaxiter\u001b[0m\u001b[0;34m)\u001b[0m\u001b[0;34m:\u001b[0m\u001b[0;34m\u001b[0m\u001b[0m\n",
      "\u001b[0;31mTypeError\u001b[0m: return_price_ay24() takes 2 positional arguments but 10 were given"
     ]
    }
   ],
   "source": [
    "import scipy.optimize as optimize\n",
    "\n",
    "# CELDA 2:\n",
    "# Objetivo de esta celda: Crear una función que, dado un precio y una fecha, compute una tasa anualizada porcentual\n",
    "# del bono AY24 para esa fecha.\n",
    "\n",
    "# Para ello hay que usar la función de la CELDA 1 y el optimizador optimize.newton(...) de scipy con el\n",
    "# fin de encontrar la tasa anualizada tal que al evaluar la función de la CELDA 1 de el precio de input.\n",
    "\n",
    "def compute_rate(price, date):    \n",
    "    a = optimize.newton(return_price_ay24, price,args=(date))\n",
    "    print(a)\n",
    "\n",
    "compute_rate(3.45,'14/8/2018')"
   ]
  },
  {
   "cell_type": "code",
   "execution_count": 27,
   "metadata": {},
   "outputs": [
    {
     "name": "stdout",
     "output_type": "stream",
     "text": [
      "92.74939855272626\n"
     ]
    }
   ],
   "source": [
    "# CELDA 3:\n",
    "# Objetivo de esta celda: Computar el precio del AY24 del día 14/8/2018 con tasa de retorno a la madurez anualizada de 11,93%.\n",
    "price_ay24 = return_price_ay24(11.93, '14/8/2018')\n",
    "print(price_ay24)"
   ]
  },
  {
   "cell_type": "code",
   "execution_count": null,
   "metadata": {
    "collapsed": true
   },
   "outputs": [],
   "source": [
    "# CELDA 4:\n",
    "# Objetivo de esta celda: Computar la tasa de retorno a la madurez del AY24 del día 31/8/2018 con precio 95,85 (U$S).\n",
    "rate_ay24 = compute_rate(95.85, '31/8/2018')\n",
    "print(rate_ay24)"
   ]
  },
  {
   "cell_type": "markdown",
   "metadata": {},
   "source": [
    "#### Tasa implícita anualizada de futuros:"
   ]
  },
  {
   "cell_type": "code",
   "execution_count": 75,
   "metadata": {},
   "outputs": [],
   "source": [
    "# CELDA 5:\n",
    "# Objetivo de esta celda: De http://www.rofex.com.ar/cem/FyO.aspx extraer manualmente los datos necesarios para crear\n",
    "# un array con los precios de los dólares futuros de los días 31/08/2018 y 3/8/2018. Nos interesa los productos: \n",
    "# [DLR082018,DLR092018,DLR102018,DLR112018,DLR122018,DLR012019,DLR022019]\n",
    "\n",
    "import numpy as np\n",
    "import matplotlib.pyplot as plt\n",
    "import matplotlib.dates as mdates\n",
    "\n",
    "from datetime import datetime\n",
    "\n",
    "dlr_result = []\n",
    "\n",
    "dates = ['31/08/2018', '30/09/2018', '31/10/2018', '30/11/2018', '31/12/2018', '31/01/2019', '28/02/2019']\n",
    "\n",
    "x_axis = [datetime.strptime(d,'%d/%m/%Y').date() for d in dates]\n",
    "\n",
    "dlr_primero = [\n",
    "    {'id': 'DLR082018', 'due_date': '31/08/2018','price_now':28.300, 'price_future':28.060},\n",
    "    {'id': 'DLR092018', 'due_date': '30/09/2018','price_now':29.000, 'price_future':28.845},\n",
    "    {'id': 'DLR102018', 'due_date': '31/10/2018','price_now':29.820, 'price_future':29.785},\n",
    "    {'id': 'DLR112018', 'due_date': '30/11/2018','price_now':30.685, 'price_future':30.700},\n",
    "    {'id': 'DLR122018', 'due_date': '31/12/2018','price_now':31.500, 'price_future':31.500},\n",
    "    {'id': 'DLR012019', 'due_date': '31/01/2019','price_now':32.400, 'price_future':32.290},\n",
    "    {'id': 'DLR022019', 'due_date': '28/02/2019','price_now':33.200, 'price_future':33.110}\n",
    "]\n",
    "\n",
    "dlr_segundo = [\n",
    "    {'id': 'DLR082018', 'due_date': '31/08/2018','price_now':39.500, 'price_future':37.300},\n",
    "    {'id': 'DLR092018', 'due_date': '30/09/2018','price_now':40.100, 'price_future':38.150},\n",
    "    {'id': 'DLR102018', 'due_date': '31/10/2018','price_now':42.000, 'price_future':39.500},\n",
    "    {'id': 'DLR112018', 'due_date': '30/11/2018','price_now':41.750, 'price_future':41.000},\n",
    "    {'id': 'DLR122018', 'due_date': '31/12/2018','price_now':44.000, 'price_future':42.010},\n",
    "    {'id': 'DLR012019', 'due_date': '31/01/2019','price_now':46.000, 'price_future':43.500},\n",
    "    {'id': 'DLR022019', 'due_date': '28/02/2019','price_now':46.500, 'price_future':45.350}\n",
    "]\n",
    "\n",
    "def get_delta_time(date_current, due_date):\n",
    "    due = datetime.strptime(due_date, '%d/%m/%Y')\n",
    "    current = datetime.strptime(date_current, '%d/%m/%Y')\n",
    "    return (( due - current ).days / 365)\n",
    "\n",
    "def get_implicit_rate(date):\n",
    "    rate_result = []\n",
    "\n",
    "    if date == '3/08/2018':\n",
    "        dlr_data = dlr_primero\n",
    "    else:\n",
    "        dlr_data = dlr_segundo\n",
    "    \n",
    "    for dlr in dlr_data:\n",
    "        exp = get_delta_time( date, dlr.get('due_date') )\n",
    "        quot_price = dlr.get('price_now') / dlr.get('price_future')\n",
    "        res = pow(quot_price, exp)\n",
    "        rate_result.append( res - 1 )\n",
    "\n",
    "    return rate_result"
   ]
  },
  {
   "cell_type": "code",
   "execution_count": 76,
   "metadata": {},
   "outputs": [
    {
     "name": "stdout",
     "output_type": "stream",
     "text": [
      "[0.0006535516617360848, 0.0008519556180632826, 0.0002864011276555445, -0.0001593230094776299, 0.0, 0.0016878658120365042, 0.0015555527063650931]\n"
     ]
    },
    {
     "data": {
      "text/plain": [
       "[<matplotlib.lines.Line2D at 0x10f966fd0>]"
      ]
     },
     "execution_count": 76,
     "metadata": {},
     "output_type": "execute_result"
    },
    {
     "data": {
      "image/png": "[encoded data removed]",
      "text/plain": [
       "<Figure size 432x288 with 1 Axes>"
      ]
     },
     "metadata": {},
     "output_type": "display_data"
    }
   ],
   "source": [
    "# CELDA 6:\n",
    "# Objetivo de esta celda: Computar la tasa implícita anualizada de los dólares futuros del día 31/08/2018. Graficar.\n",
    "\n",
    "# Tener en cuenta que los vencimientos de los futuros son el último día del mes. EJ DLR012019 vence el 31/1/2019.\n",
    "\n",
    "y_axis = get_implicit_rate('3/08/2018')\n",
    "print(r)\n",
    "\n",
    "plt.gca().xaxis.set_major_formatter(mdates.DateFormatter('%d/%m/%Y'))\n",
    "plt.plot(x_axis, y_axis)"
   ]
  },
  {
   "cell_type": "code",
   "execution_count": null,
   "metadata": {
    "collapsed": true
   },
   "outputs": [],
   "source": [
    "# CELDA 7:\n",
    "# Objetivo de esta celda: Computar la tasa implícita anualizada de los dólares futuros del día 3/8/2018. Graficar."
   ]
  },
  {
   "cell_type": "markdown",
   "metadata": {},
   "source": [
    "## Examen clase 2:"
   ]
  },
  {
   "cell_type": "code",
   "execution_count": null,
   "metadata": {
    "collapsed": true
   },
   "outputs": [],
   "source": [
    "# CELDA 8:\n",
    "# Objetivo de esta celda: Cargar el pickle '\\DiploDatos\\Clase 2\\Database\\Nasdaq_sotck.pk'\n",
    "\n",
    "# https://docs.python.org/3/library/pickle.html\n",
    "# Esta base de datos son precios ajustados de Nasdaq 100. Son ajustados porque omiten dividendos, para\n",
    "# no tener salto en precios imposibles de entender por un autoencoder.\n",
    "# Tener en cuenta que SIEMPRE hay que usar precios ajustados por dividendos al hacer cualquier autoencoder o regresor\n",
    "# sobre acciones."
   ]
  },
  {
   "cell_type": "code",
   "execution_count": null,
   "metadata": {
    "collapsed": true
   },
   "outputs": [],
   "source": [
    "# CELDA 9:\n",
    "# Objetivo de esta celda: Imprimir las columnas de la base de datos."
   ]
  },
  {
   "cell_type": "code",
   "execution_count": null,
   "metadata": {
    "collapsed": true
   },
   "outputs": [],
   "source": [
    "# CELDA 10:\n",
    "# Objetivo de esta celda: Graficar la serie histórica de precio ajustado de Apple ('AAPL')."
   ]
  },
  {
   "cell_type": "code",
   "execution_count": null,
   "metadata": {
    "collapsed": true
   },
   "outputs": [],
   "source": [
    "# CELDA 11:\n",
    "# Objetivo de esta celda: Estandarizar todas las series históricas ajustadas de precios de todas las acciones de Nasdaq 100.\n",
    "# Puede ser manualmente o utilizar StandardScaler de sk-learn."
   ]
  },
  {
   "cell_type": "code",
   "execution_count": null,
   "metadata": {
    "collapsed": true
   },
   "outputs": [],
   "source": [
    "# CELDA 12:\n",
    "# Objetivo de esta celda: Crear una función cuyo input es un entero 'dim_neuron' y el output es un modelo autoencoder.\n",
    "# Modelo autoencoder output:\n",
    "# (encoder)\n",
    "# Input@ 95\n",
    "# Dense@ dim_neuron+relu\n",
    "# Dense@ 10+linear\n",
    "# (decoder)\n",
    "# Dense@ dim_neuron+relu\n",
    "# Dense@ 95+linear\n",
    "# loss: mse"
   ]
  },
  {
   "cell_type": "code",
   "execution_count": null,
   "metadata": {
    "collapsed": true
   },
   "outputs": [],
   "source": [
    "# CELDA 13:\n",
    "# Objetivo de esta celda: Hacer validación cruzada para determinar los epochs y dim_neuron.\n",
    "# Hay que usar TimeSeriesSplit(100) pero hacer validación cruzada sólo sobre los últimos 10 segmentos.\n",
    "\n",
    "# Puede utilizar tanto KerasRegressor+GridSearchCV como loops anidados.\n",
    "# HINT 1: Si se usa loops anidados hay que reinicializar cada modelo antes de hacer .fit .\n",
    "# HINT 2: Hay codigo suficiente en las filminas de la clase como para poder realizar este paso."
   ]
  },
  {
   "cell_type": "code",
   "execution_count": null,
   "metadata": {
    "collapsed": true
   },
   "outputs": [],
   "source": [
    "# CELDA 14:\n",
    "# Objetivo de esta celda: Entrenar un autoencoder con la mejor hiperparametrización obtenida en la celda 13 y\n",
    "# con datos de validación.\n",
    "# Dejar fuera del entrenamiento los últimos 66 días de datos, los cuales utilizaremos como conjunto de validación."
   ]
  },
  {
   "cell_type": "code",
   "execution_count": null,
   "metadata": {
    "collapsed": true
   },
   "outputs": [],
   "source": [
    "# CELDA 15:\n",
    "# Objetivo de esta celda: Usando el modelo de la CELDA 14, graficar el espacio latente sobre la totalidad de los datos."
   ]
  },
  {
   "cell_type": "code",
   "execution_count": null,
   "metadata": {
    "collapsed": true
   },
   "outputs": [],
   "source": [
    "# CELDA 16:\n",
    "# Objetivo de esta celda: VALIDACIÓN CRUZADA DE UN DENOISING AUTOENCODER.\n",
    "# Hacer validación cruzada para determinar los epochs y dim_neuron de un DENOISING AUTOENCODER.\n",
    "# El modelo es el definido en 12.\n",
    "# Hay que usar TimeSeriesSplit(100) pero hacer validación cruzada sobre los ultimos 10 segmentos.\n",
    "# Por cada dato a partir del dato 91 introducir 30 veces ruido a la muestra de input de entrenamiento. Para cada acción el ruido\n",
    "# es sumar un número aleatorio de una normal con desviación estándar igual a los 90 días anteriores de dicha acción.\n",
    "# Es decir que cada dato a partir del dato 91 será utilizado 30 veces para entrenar (agregando ruido).\n",
    "# Los datos en el conjunto de validación NO deben tener ruido."
   ]
  },
  {
   "cell_type": "code",
   "execution_count": null,
   "metadata": {
    "collapsed": true
   },
   "outputs": [],
   "source": [
    "# CELDA 17:\n",
    "# Objetivo de esta celda: Entrenar un DENOISING AUTOENCODER con la mejor hiperparametrización obtenida en la celda 16 y\n",
    "# con datos de validación.\n",
    "# Dejar fuera del entrenamiento los últimos 66 días de datos, los cuales utilizaremos como conjunto de validación.\n",
    "# Recordamos que para ser un DENOISING AUTOENCODER hay que introducir ruido a cada elemento de entrenamiento,\n",
    "# similar a la CELDA 16.\n",
    "# Los datos en el conjunto de validación NO deben tener ruido."
   ]
  },
  {
   "cell_type": "code",
   "execution_count": null,
   "metadata": {
    "collapsed": true
   },
   "outputs": [],
   "source": [
    "# CELDA 18:\n",
    "# Objetivo de esta celda: Usando el modelo de la CELDA 17, graficar el espacio latente sobre\n",
    "# la totalidad de los datos (sin ruido)."
   ]
  },
  {
   "cell_type": "code",
   "execution_count": null,
   "metadata": {
    "collapsed": true
   },
   "outputs": [],
   "source": [
    "# CELDA 19:\n",
    "# Objetivo de esta celda: Repetir la función de CELDA 12 pero agregando DROPOUT:\n",
    "# Modelo autoencoder output:\n",
    "# (encoder)\n",
    "# Input@ 95\n",
    "# Dense@ dim_neuron+relu\n",
    "# Dropout(0.2)\n",
    "# Dense@ 10+linear\n",
    "# (decoder)\n",
    "# Dense@ dim_neuron+relu\n",
    "# Dropout(0.2)\n",
    "# Dense@ 95+linear\n",
    "# loss: mse"
   ]
  },
  {
   "cell_type": "code",
   "execution_count": null,
   "metadata": {
    "collapsed": true
   },
   "outputs": [],
   "source": [
    "# CELDA 20:\n",
    "# Objetivo de esta celda: Hacer validación cruzada como en CELDA 16 pero del modelo de CELDA 19.\n",
    "# Es decir validación cruzada de un DENOISING AUTOENCODER con Dropout."
   ]
  },
  {
   "cell_type": "code",
   "execution_count": null,
   "metadata": {
    "collapsed": true
   },
   "outputs": [],
   "source": [
    "# CELDA 21:\n",
    "# Objetivo de esta celda: Entrenar un DENOISING AUTOENCODER con Dropout, usando la mejor hiperparametrización obtenida\n",
    "# en la celda 20 y con datos de validación.\n",
    "# Dejar fuera del entrenamiento los últimos 66 días de datos, los cuales utilizaremos como conjunto de validación.\n",
    "# Recordamos que para ser un DENOISING AUTOENCODER hay que introducir ruido a cada elemento de entrenamiento,\n",
    "# similar a la CELDA 16.\n",
    "# Los datos en el conjunto de validación NO deben tener ruido."
   ]
  },
  {
   "cell_type": "code",
   "execution_count": null,
   "metadata": {
    "collapsed": true
   },
   "outputs": [],
   "source": [
    "# CELDA 22:\n",
    "# Objetivo de esta celda: Graficar el espacio latente sobre la totalidad de los datos (sin ruido)."
   ]
  }
 ],
 "metadata": {
  "kernelspec": {
   "display_name": "Python 3",
   "language": "python",
   "name": "python3"
  },
  "language_info": {
   "codemirror_mode": {
    "name": "ipython",
    "version": 3
   },
   "file_extension": ".py",
   "mimetype": "text/x-python",
   "name": "python",
   "nbconvert_exporter": "python",
   "pygments_lexer": "ipython3",
   "version": "3.6.5"
  }
 },
 "nbformat": 4,
 "nbformat_minor": 2
}
