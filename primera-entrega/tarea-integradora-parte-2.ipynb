{
 "cells": [
  {
   "cell_type": "markdown",
   "metadata": {},
   "source": [
    "## Ejercicio 1\n",
    "\n",
    "Desarrollar analíticamente el tiempo de vida en horas que una computadora funciona antes de descomponerse es una v.a.\n",
    "continua con f.d.p. dada por\n",
    "\n",
    "$$\n",
    "f ( x ) = \\begin{cases}\n",
    "~~ 0.01e^{0.01*x} & si ~~ x ≥ 0 \\\\\n",
    "~~ 0 & si ~~ x<0\n",
    "\\end{cases}\n",
    "$$\n",
    "\n",
    "* Hallar la F.d.a. de X\n",
    "\n",
    "* ¿Cuál es la probabilidad que la computadora funcione entre 50 y 150 horas antes de descomponerse?\n",
    "\n",
    "* ¿Cuál es la probabilidad que una computadora se descomponga antes de registrar 100 horas de uso?"
   ]
  },
  {
   "cell_type": "markdown",
   "metadata": {},
   "source": [
    "### Hallar la F.d.a. de X\n",
    "\n",
    "Sea X una v.a. continua con distribución exponencial.\n",
    "\n",
    "Siendo λ el promedio de ocurrencias por unidad de tiempo\n",
    "\n",
    "Entonces:\n",
    "\n",
    "Sus estadísticos son: \n",
    "\n",
    "* E(X) = μ = 1/λ\n",
    "* V(X) = σ = 1/λ^2\n",
    "\n",
    "X = tiempo de vida en horas de una PC ante de descomponerse\n",
    "λ = 0,01\n",
    "\n",
    "Su F.d.a:\n",
    "\n",
    "P(X <= x) = 1 - ε^(-λ*x)\n"
   ]
  },
  {
   "cell_type": "markdown",
   "metadata": {},
   "source": [
    "### ¿Cuál es la probabilidad que la computadora funcione entre 50 y 150 horas antes de descomponerse?\n",
    "P(A <= X <= B) = P(B) - P(A)\n",
    "\n",
    "P(A) = P(X <= 50) = 1 - ε^(-λ*50) =0,393\n",
    "P(B) = P(X > 150) = 1 - ε^(-λ*150) =0,776\n",
    "\n",
    "P(50 <= X <= 150) = 0,383"
   ]
  },
  {
   "cell_type": "markdown",
   "metadata": {},
   "source": [
    "### ¿Cuál es la probabilidad que una computadora se descomponga antes de registrar 100 horas de uso?\n",
    "P(X <= 100) = 1 - ε^(-λ*100) = 0,632"
   ]
  },
  {
   "cell_type": "markdown",
   "metadata": {},
   "source": [
    "## Ejercicio 2\n",
    "\n",
    "Modificar los valores de mu, sigma y el rango de la siguiente distribución normal. Escribir un breve resumen sobre como se relacionan estas variables sobre el dibujo de la campana de Gauss."
   ]
  },
  {
   "cell_type": "markdown",
   "metadata": {},
   "source": [
    "Valores escojidos para los parámetros:\n",
    "\n",
    "    μ = 5\n",
    "    \n",
    "    σ = 10\n",
    "    \n",
    "    rango = [-40 - 90]"
   ]
  },
  {
   "cell_type": "markdown",
   "metadata": {},
   "source": [
    "### Conclusiones\n",
    "\n",
    "Al cambiar el valor de mu produce que la campana de Gauss se desplace hacia la deracha para valores positivos, mientras que a la izquierda para valores negativos, respecto al origen ( punto cero). Como resultado, la campana será simétrica en el nuevo valor de mu.\n",
    "Dicho valor es llamado de locación, dado a que si es modificado la campana se desplaza.\n",
    "\n",
    "El cambio en sigma produce que la campana se \"aplaste\" o sea mas puntiaguda, de acuerdo a los valores que se le asigne. \n",
    "Para valores mayores la campana tiende a aplanarse, mientras que para valores bajos (1 por ejemplo) la campana presenta una puntiaguzes alta. Gracias a esta morfologia que adquiere la campana, podemos darnos una idea de que tan dispersos o concentrados están los datos respecto a la media.\n",
    "\n",
    "Si bien teoricamente la campana se extiende hasta el infinito, el rango nos muestra el conjunto de sucesos posibles bajo la campana, y de acuerdo como esté distribuido respecto a los valores de mu y sigma sus posibles probabilidades."
   ]
  },
  {
   "cell_type": "code",
   "execution_count": null,
   "metadata": {},
   "outputs": [],
   "source": []
  }
 ],
 "metadata": {
  "kernelspec": {
   "display_name": "Python 3",
   "language": "python",
   "name": "python3"
  },
  "language_info": {
   "codemirror_mode": {
    "name": "ipython",
    "version": 3
   },
   "file_extension": ".py",
   "mimetype": "text/x-python",
   "name": "python",
   "nbconvert_exporter": "python",
   "pygments_lexer": "ipython3",
   "version": "3.6.5"
  }
 },
 "nbformat": 4,
 "nbformat_minor": 2
}
